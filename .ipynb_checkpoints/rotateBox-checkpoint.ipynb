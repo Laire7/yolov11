{
 "cells": [
  {
   "cell_type": "code",
   "execution_count": 6,
   "id": "c1a8cf58-d077-42e9-8bcd-1ec636522e0e",
   "metadata": {},
   "outputs": [],
   "source": [
    "import cv2\n",
    "imagePath = '000000386298.jpg'\n",
    "image = cv2.imread(imagePath)\n",
    "image = cv2.cvtColor(image, cv2.COLOR_BGR2RGB)"
   ]
  },
  {
   "cell_type": "code",
   "execution_count": 1,
   "id": "6db3cd7d-6557-44c4-84ee-8d68fcb16436",
   "metadata": {},
   "outputs": [],
   "source": [
    "def __init__(self, angle = 10):\n",
    "    self.angle = angle\n",
    "\n",
    "    if type(self.angle) == tuple:\n",
    "        assert len(self.angle) == 2, \"Invalid range\"   \n",
    "    else:\n",
    "        self.angle = (-self.angle, self.angle)"
   ]
  },
  {
   "cell_type": "code",
   "execution_count": 13,
   "id": "277a6976-2ceb-460e-a945-b4d301d405b7",
   "metadata": {},
   "outputs": [],
   "source": [
    "angle = 0.5\n",
    "(h, w) = image.shape[:2]\n",
    "(cX, cY) = (w // 2, h // 2)\n",
    "M = cv2.getRotationMatrix2D((cX, cY), angle, 1.0)"
   ]
  },
  {
   "cell_type": "code",
   "execution_count": 14,
   "id": "f6f42eec-91fd-491b-b6f1-6f99e74ac265",
   "metadata": {},
   "outputs": [
    {
     "ename": "error",
     "evalue": "OpenCV(4.10.0) D:\\a\\opencv-python\\opencv-python\\opencv\\modules\\highgui\\src\\window.cpp:1301: error: (-2:Unspecified error) The function is not implemented. Rebuild the library with Windows, GTK+ 2.x or Cocoa support. If you are on Ubuntu or Debian, install libgtk2.0-dev and pkg-config, then re-run cmake or configure script in function 'cvShowImage'\n",
     "output_type": "error",
     "traceback": [
      "\u001b[1;31m---------------------------------------------------------------------------\u001b[0m",
      "\u001b[1;31merror\u001b[0m                                     Traceback (most recent call last)",
      "Cell \u001b[1;32mIn[14], line 2\u001b[0m\n\u001b[0;32m      1\u001b[0m image \u001b[38;5;241m=\u001b[39m cv2\u001b[38;5;241m.\u001b[39mwarpAffine(image, M, (w, h))\n\u001b[1;32m----> 2\u001b[0m \u001b[43mcv2\u001b[49m\u001b[38;5;241;43m.\u001b[39;49m\u001b[43mimshow\u001b[49m\u001b[43m(\u001b[49m\u001b[38;5;124;43m'\u001b[39;49m\u001b[38;5;124;43mrotate\u001b[39;49m\u001b[38;5;124;43m'\u001b[39;49m\u001b[43m,\u001b[49m\u001b[43m \u001b[49m\u001b[43mimage\u001b[49m\u001b[43m)\u001b[49m\n",
      "\u001b[1;31merror\u001b[0m: OpenCV(4.10.0) D:\\a\\opencv-python\\opencv-python\\opencv\\modules\\highgui\\src\\window.cpp:1301: error: (-2:Unspecified error) The function is not implemented. Rebuild the library with Windows, GTK+ 2.x or Cocoa support. If you are on Ubuntu or Debian, install libgtk2.0-dev and pkg-config, then re-run cmake or configure script in function 'cvShowImage'\n"
     ]
    }
   ],
   "source": [
    "image = cv2.warpAffine(image, M, (w, h))\n",
    "cv2.imshow('rotate', image)"
   ]
  },
  {
   "cell_type": "code",
   "execution_count": null,
   "id": "96d05097-3370-42a2-a77e-8cd4c951e8b3",
   "metadata": {},
   "outputs": [],
   "source": []
  }
 ],
 "metadata": {
  "kernelspec": {
   "display_name": "Python 3 (ipykernel)",
   "language": "python",
   "name": "python3"
  },
  "language_info": {
   "codemirror_mode": {
    "name": "ipython",
    "version": 3
   },
   "file_extension": ".py",
   "mimetype": "text/x-python",
   "name": "python",
   "nbconvert_exporter": "python",
   "pygments_lexer": "ipython3",
   "version": "3.10.15"
  }
 },
 "nbformat": 4,
 "nbformat_minor": 5
}
