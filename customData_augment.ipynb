{
 "cells": [
  {
   "cell_type": "markdown",
   "id": "1aba07f3-04cd-45ac-adc6-e0363c1b61ca",
   "metadata": {},
   "source": [
    "## 데이터셋 확인"
   ]
  },
  {
   "cell_type": "code",
   "execution_count": 17,
   "id": "68af2d16-fc5e-49e3-a6cc-7d757f0ceb26",
   "metadata": {},
   "outputs": [],
   "source": [
    "from glob import glob \n",
    "\n",
    "# 원본 데이터셋이 저장된 폴더\n",
    "orgDataPath = 'C:/Users/SBA/yolo/yolov11/customData/org'\n",
    "imagefiles = glob(os.path.join(orgDataPath, '*.JPG'))\n",
    "labelfiles = glob(os.path.join(orgDataPath, '*.txt'))"
   ]
  },
  {
   "cell_type": "code",
   "execution_count": 21,
   "id": "6d84c13f-1fea-4809-a28a-12a17ca4b672",
   "metadata": {},
   "outputs": [
    {
     "name": "stdout",
     "output_type": "stream",
     "text": [
      "correct: 4/4\n"
     ]
    }
   ],
   "source": [
    "# 이미지 파일과 txt파일이 동일하게 한쌍으로 존재하는지 확인\n",
    "correct = 0\n",
    "for i in range(len(imagefiles)):\n",
    "    if imagefiles[i].split('.JPG')==labelfiles[i].split('.txt'):\n",
    "        correct +=1\n",
    "        #print(imagefiles[i], labelfiles[i])\n",
    "print(\"correct: {}/{}\".format(correct,len(imagefiles)))"
   ]
  },
  {
   "cell_type": "code",
   "execution_count": 31,
   "id": "86d133e7-59af-4701-ac86-75468e3d26d1",
   "metadata": {},
   "outputs": [],
   "source": [
    "import random\n",
    "import cv2\n",
    "from matplotlib import pyplot as plt\n",
    "import albumentations as A"
   ]
  },
  {
   "cell_type": "code",
   "execution_count": 51,
   "id": "70d58901-0e35-4ce2-a4b3-8778b37e94e2",
   "metadata": {},
   "outputs": [],
   "source": [
    "BOX_COLOR = (255, 0, 0) # Red\n",
    "TEXT_COLOR = (255, 255, 255) # White\n",
    "\n",
    "\n",
    "def visualize_bbox(img, bbox, class_name, width, height, dataType='yolo', color=BOX_COLOR, thickness=2):\n",
    "    \"\"\"Visualizes a single bounding box on the image\"\"\"\n",
    "\n",
    "    if dataType == 'coco':\n",
    "        x_min, y_min, w, h = bbox\n",
    "        \n",
    "        x_min, x_max, y_min, y_max = int(x_min), int(x_min + w), int(y_min), int(y_min + h)\n",
    "\n",
    "    elif dataType =='yolo':\n",
    "        x_center, y_center, w, h = bbox\n",
    "        # 정규화된 값 0~1사이의 값\n",
    "        # 픽셀 좌표로 변환 이미지의 width와 height값을 곱해주면 된다.\n",
    "        x_min = int((x_center - (w/2))*width)\n",
    "        x_max = int((x_center + (w/2))*width)\n",
    "        y_min = int((y_center - (h/2))*height)\n",
    "        y_max = int((y_center + (h/2))*height)\n",
    "    print(x_min, x_max, y_min,y_max)\n",
    "    cv2.rectangle(img, (x_min, y_min), (x_max, y_max), color=color, thickness=thickness)\n",
    "\n",
    "    ((text_width, text_height), _) = cv2.getTextSize(class_name, cv2.FONT_HERSHEY_SIMPLEX, 0.35, 1)\n",
    "    cv2.rectangle(img, (x_min, y_min - int(1.3 * text_height)), (x_min + text_width, y_min), BOX_COLOR, -1)\n",
    "    cv2.putText(\n",
    "        img,\n",
    "        text=class_name,\n",
    "        org=(x_min, y_min - int(0.3 * text_height)),\n",
    "        fontFace=cv2.FONT_HERSHEY_SIMPLEX,\n",
    "        fontScale=0.35,\n",
    "        color=TEXT_COLOR,\n",
    "        lineType=cv2.LINE_AA,\n",
    "    )\n",
    "    return img\n",
    "\n",
    "\n",
    "def visualize(image, bboxes, category_ids, category_id_to_name, img_width, img_height):\n",
    "    img = image.copy()\n",
    "    for bbox, category_id in zip(bboxes, category_ids):\n",
    "        class_name = category_id_to_name[category_id]\n",
    "        img = visualize_bbox(img, bbox, class_name, img_width, img_height, 'yolo')\n",
    "    plt.figure(figsize=(12, 12))\n",
    "    plt.axis('off')\n",
    "    plt.imshow(img)"
   ]
  },
  {
   "cell_type": "code",
   "execution_count": 52,
   "id": "cb89ad7d-d0b1-42ed-9d6f-14019d01dbb6",
   "metadata": {},
   "outputs": [
    {
     "data": {
      "text/plain": [
       "['C:/Users/park0/yolov11/customData/org\\\\chocoChip.JPG',\n",
       " 'C:/Users/park0/yolov11/customData/org\\\\gomet.JPG',\n",
       " 'C:/Users/park0/yolov11/customData/org\\\\potatoCookie.JPG',\n",
       " 'C:/Users/park0/yolov11/customData/org\\\\sandAce.JPG']"
      ]
     },
     "execution_count": 52,
     "metadata": {},
     "output_type": "execute_result"
    }
   ],
   "source": [
    "imagefiles"
   ]
  },
  {
   "cell_type": "code",
   "execution_count": 53,
   "id": "63192001-fd44-4939-886c-d57a8fe2758d",
   "metadata": {},
   "outputs": [],
   "source": [
    "def read_label_txt(txtFile):\n",
    "    category_ids = []\n",
    "    bboxes = []\n",
    "\n",
    "    f=open(txtFile,'r')\n",
    "\n",
    "    while True:\n",
    "        line = f.readline()\n",
    "        if not line: break\n",
    "        ids, xc, yc, w, h= line.split(' ')\n",
    "        category_ids.append(int(ids))\n",
    "        bboxes.append([float(xc),float(yc),float(w),float(h)])\n",
    "        #print(line)\n",
    "    f.close()\n",
    "    return category_ids, bboxes"
   ]
  },
  {
   "cell_type": "code",
   "execution_count": 120,
   "id": "0dd43bb6-ba83-4147-baf1-786d32706f7d",
   "metadata": {},
   "outputs": [],
   "source": [
    "def write_label_txt(txtFile, category_ids, bboxes):\n",
    "    f=open(txtFile,'w')\n",
    "\n",
    "    for i, ids in enumerate(category_ids):\n",
    "        xc,yc,w,h = bboxes[i]\n",
    "        f.write(\"{} {} {} {} {}\".format(int(ids),xc,yc,w,h))\n",
    "        #print(\"{} {}\".format(int(ids), bboxes[i]))\n",
    "    f.close()"
   ]
  },
  {
   "cell_type": "code",
   "execution_count": 121,
   "id": "7293566e-f74f-40e1-a3de-0d8ed304a1ad",
   "metadata": {},
   "outputs": [],
   "source": [
    "category_id_to_name = {0: 'chocoChip', 1: 'gomet', 2: 'potatoCookie', 3: 'sandAce'}"
   ]
  },
  {
   "cell_type": "markdown",
   "id": "81f3b765-98ba-4196-affd-7d0bb4b76e5e",
   "metadata": {},
   "source": [
    "### 원본 이미지를 축소"
   ]
  },
  {
   "cell_type": "code",
   "execution_count": 122,
   "id": "60473bae-0cd3-418a-8b0f-5b3ed747923c",
   "metadata": {},
   "outputs": [],
   "source": [
    "transform_resize = A.Compose(\n",
    "    [A.LongestMaxSize(max_size=800, interpolation=cv2.INTER_LINEAR),],\n",
    "    bbox_params=A.BboxParams(format='yolo', label_fields=['category_ids']),\n",
    ")"
   ]
  },
  {
   "cell_type": "markdown",
   "id": "cb6d51dc-182e-4638-8e6e-6d8d6ef83746",
   "metadata": {},
   "source": [
    "### 원본 이미지 좌우 대칭"
   ]
  },
  {
   "cell_type": "code",
   "execution_count": 123,
   "id": "e94216be-7a23-4b23-ad10-825c40b1da70",
   "metadata": {},
   "outputs": [],
   "source": [
    "transform_hflip = A.Compose(\n",
    "    [A.HorizontalFlip(p=1.0)],\n",
    "    bbox_params=A.BboxParams(format='yolo', label_fields=['category_ids']),\n",
    ")"
   ]
  },
  {
   "cell_type": "code",
   "execution_count": 134,
   "id": "7e69e0c1-7279-47c8-bad8-ca7126d7a0e5",
   "metadata": {},
   "outputs": [],
   "source": [
    "DEBUG = False\n",
    "\n",
    "def dataAug(func, imagefiles):\n",
    "    for imagefile in imagefiles:\n",
    "        image = cv2.imread(imagefile)\n",
    "        image = cv2.cvtColor(image, cv2.COLOR_BGR2RGB)\n",
    "        img_height, img_width = image.shape[0:2]\n",
    "    \n",
    "        # txt파일은 이미지 파일에서 확장자만 다르다!\n",
    "        baseName = imagefile.split('.')[0]\n",
    "        txtFile = baseName+'.txt'\n",
    "        category_ids, bboxes = read_label_txt(txtFile)\n",
    "        \n",
    "        if func=='hflip':\n",
    "            transformed = transform_hflip(image=image, bboxes=bboxes, category_ids=category_ids)\n",
    "            saveImageName = baseName + '_hflip.JPG'  \n",
    "            saveLabelName = baseName + '_hflip.txt'\n",
    "            saveImage = cv2.cvtColor(transformed['image'], cv2.COLOR_RGB2BGR)\n",
    "            cv2.imwrite(saveImageName, saveImage)\n",
    "            write_label_txt(saveLabelName, transformed['category_ids'], transformed['bboxes'])            \n",
    "        elif func=='rotate':\n",
    "            angle_inter = 20\n",
    "            for angle in range(angle_inter,360,angle_inter):\n",
    "                transform_rotate = A.Compose(\n",
    "                    [A.Rotate(limit=(angle,angle), rotate_method='largest_box', p=1.0)],\n",
    "                    bbox_params=A.BboxParams(format='yolo', label_fields=['category_ids'])\n",
    "                )\n",
    "                transformed = transform_rotate(image=image, bboxes=bboxes, category_ids=category_ids)\n",
    "                saveImageName = baseName + '_rotate_{}.JPG'.format(angle)  \n",
    "                saveLabelName = baseName + '_rotate_{}.txt'.format(angle)  \n",
    "                saveImage = cv2.cvtColor(transformed['image'], cv2.COLOR_RGB2BGR)\n",
    "                cv2.imwrite(saveImageName, saveImage)\n",
    "                write_label_txt(saveLabelName, transformed['category_ids'], transformed['bboxes'])\n",
    "        elif func=='resize':\n",
    "            transformed = transform_resize(image=image, bboxes=bboxes, category_ids=category_ids)\n",
    "            saveImageName = baseName + '.JPG'  \n",
    "            saveLabelName = baseName + '.txt'            \n",
    "            saveImage = cv2.cvtColor(transformed['image'], cv2.COLOR_RGB2BGR)\n",
    "            cv2.imwrite(saveImageName, saveImage)\n",
    "            write_label_txt(saveLabelName, transformed['category_ids'], transformed['bboxes'])\n",
    "            \n",
    "        if DEBUG==True:\n",
    "            visualize(\n",
    "                transformed['image'],\n",
    "                transformed['bboxes'],\n",
    "                transformed['category_ids'],\n",
    "                category_id_to_name,\n",
    "                img_width, img_height\n",
    "            )\n",
    "            break"
   ]
  },
  {
   "cell_type": "code",
   "execution_count": 135,
   "id": "13e05932-e850-4e27-91c3-d5271b08914f",
   "metadata": {
    "scrolled": true
   },
   "outputs": [],
   "source": [
    "dataAug('resize', imagefiles)\n",
    "dataAug('hflip', imagefiles)\n",
    "dataAug('rotate', imagefiles)"
   ]
  },
  {
   "cell_type": "code",
   "execution_count": 105,
   "id": "23c01a43-d7b3-4a34-8655-6d4c251258b0",
   "metadata": {},
   "outputs": [],
   "source": []
  },
  {
   "cell_type": "code",
   "execution_count": null,
   "id": "3f44a2f6-191a-4afa-9676-56cde5e979a4",
   "metadata": {},
   "outputs": [],
   "source": []
  }
 ],
 "metadata": {
  "kernelspec": {
   "display_name": "Python 3 (ipykernel)",
   "language": "python",
   "name": "python3"
  },
  "language_info": {
   "codemirror_mode": {
    "name": "ipython",
    "version": 3
   },
   "file_extension": ".py",
   "mimetype": "text/x-python",
   "name": "python",
   "nbconvert_exporter": "python",
   "pygments_lexer": "ipython3",
   "version": "3.10.15"
  }
 },
 "nbformat": 4,
 "nbformat_minor": 5
}
