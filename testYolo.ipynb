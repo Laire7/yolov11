{
 "cells": [
  {
   "cell_type": "code",
   "execution_count": 1,
   "id": "a9cc3cf9-ba4e-451e-a675-e4998c9f7b7f",
   "metadata": {},
   "outputs": [],
   "source": [
    "from ultralytics import YOLO\n",
    "model = YOLO('yolo11n.pt')"
   ]
  },
  {
   "cell_type": "code",
   "execution_count": 2,
   "id": "b3656bed-9a4f-4344-b37c-90a7d9023521",
   "metadata": {},
   "outputs": [
    {
     "name": "stdout",
     "output_type": "stream",
     "text": [
      "['test', 'train', 'valid']\n",
      "['k1_f_30.jpg', 'k2_ss_v_f_0_lc_f.jpg', 'k2_ss_v_f_0_ll_b.jpg', 'k2_ss_v_f_0_ll_f.jpg', 'k2_ss_v_f_0_sc_b.jpg', 'k2_ss_v_f_0_sc_f.jpg', 'k2_ss_v_f_0_sl_b.jpg']\n",
      "k1_f_30.jpg\n"
     ]
    }
   ],
   "source": [
    "# 파일을 잘 불러왔는지 확인\n",
    "import random, os \n",
    "\n",
    "origFolderPath = 'kDataset_yolo'\n",
    "\n",
    "origPath = os.path.join(origFolderPath)\n",
    "origFolders = os.listdir(origPath)\n",
    "print(origFolders)\n",
    "origFiles = os.listdir(os.path.join(origPath, origFolders[0], 'images'))\n",
    "print(origFiles)\n",
    "num = random.randint(0,len(origFolders[0]))\n",
    "print(origFiles[0])"
   ]
  },
  {
   "cell_type": "code",
   "execution_count": 1,
   "id": "fac1fbe9-d437-43b6-bec1-54fa201ca64a",
   "metadata": {},
   "outputs": [
    {
     "ename": "NameError",
     "evalue": "name 'model' is not defined",
     "output_type": "error",
     "traceback": [
      "\u001b[1;31m---------------------------------------------------------------------------\u001b[0m",
      "\u001b[1;31mNameError\u001b[0m                                 Traceback (most recent call last)",
      "Cell \u001b[1;32mIn[1], line 3\u001b[0m\n\u001b[0;32m      1\u001b[0m \u001b[38;5;28;01mimport\u001b[39;00m \u001b[38;5;21;01mtorch\u001b[39;00m\n\u001b[0;32m      2\u001b[0m device \u001b[38;5;241m=\u001b[39m torch\u001b[38;5;241m.\u001b[39mdevice(\u001b[38;5;124m'\u001b[39m\u001b[38;5;124mcuda\u001b[39m\u001b[38;5;124m'\u001b[39m \u001b[38;5;28;01mif\u001b[39;00m torch\u001b[38;5;241m.\u001b[39mcuda\u001b[38;5;241m.\u001b[39mis_available() \u001b[38;5;28;01melse\u001b[39;00m \u001b[38;5;124m'\u001b[39m\u001b[38;5;124mcpu\u001b[39m\u001b[38;5;124m'\u001b[39m)\n\u001b[1;32m----> 3\u001b[0m model \u001b[38;5;241m=\u001b[39m \u001b[43mmodel\u001b[49m\u001b[38;5;241m.\u001b[39mto(device)\n\u001b[0;32m      4\u001b[0m results \u001b[38;5;241m=\u001b[39m model\u001b[38;5;241m.\u001b[39mtrain(data\u001b[38;5;241m=\u001b[39m\u001b[38;5;124m'\u001b[39m\u001b[38;5;124mdata.yaml\u001b[39m\u001b[38;5;124m'\u001b[39m, epochs\u001b[38;5;241m=\u001b[39m\u001b[38;5;241m50\u001b[39m, imgsz\u001b[38;5;241m=\u001b[39m\u001b[38;5;241m640\u001b[39m)\n",
      "\u001b[1;31mNameError\u001b[0m: name 'model' is not defined"
     ]
    }
   ],
   "source": [
    "import torch\n",
    "device = torch.device('cuda' if torch.cuda.is_available() else 'cpu')\n",
    "model = model.to(device)\n",
    "results = model.train(data='data.yaml', epochs=50, imgsz=640)"
   ]
  },
  {
   "cell_type": "code",
   "execution_count": null,
   "id": "1b58ba23-4906-4f96-8dc1-68ab10b6415d",
   "metadata": {},
   "outputs": [],
   "source": []
  }
 ],
 "metadata": {
  "kernelspec": {
   "display_name": "Python 3 (ipykernel)",
   "language": "python",
   "name": "python3"
  },
  "language_info": {
   "codemirror_mode": {
    "name": "ipython",
    "version": 3
   },
   "file_extension": ".py",
   "mimetype": "text/x-python",
   "name": "python",
   "nbconvert_exporter": "python",
   "pygments_lexer": "ipython3",
   "version": "3.10.15"
  }
 },
 "nbformat": 4,
 "nbformat_minor": 5
}
